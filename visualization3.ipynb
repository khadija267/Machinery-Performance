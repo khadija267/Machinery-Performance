{
 "cells": [
  {
   "cell_type": "code",
   "execution_count": 1,
   "metadata": {},
   "outputs": [
    {
     "data": {
      "text/html": [
       "<div>\n",
       "<style scoped>\n",
       "    .dataframe tbody tr th:only-of-type {\n",
       "        vertical-align: middle;\n",
       "    }\n",
       "\n",
       "    .dataframe tbody tr th {\n",
       "        vertical-align: top;\n",
       "    }\n",
       "\n",
       "    .dataframe thead th {\n",
       "        text-align: right;\n",
       "    }\n",
       "</style>\n",
       "<table border=\"1\" class=\"dataframe\">\n",
       "  <thead>\n",
       "    <tr style=\"text-align: right;\">\n",
       "      <th></th>\n",
       "      <th>file_name</th>\n",
       "      <th>file_id</th>\n",
       "      <th>label1</th>\n",
       "      <th>label2</th>\n",
       "    </tr>\n",
       "  </thead>\n",
       "  <tbody>\n",
       "    <tr>\n",
       "      <th>0</th>\n",
       "      <td>1.wav</td>\n",
       "      <td>1010</td>\n",
       "      <td>fan</td>\n",
       "      <td>normal</td>\n",
       "    </tr>\n",
       "    <tr>\n",
       "      <th>1</th>\n",
       "      <td>2.wav</td>\n",
       "      <td>1011</td>\n",
       "      <td>fan</td>\n",
       "      <td>normal</td>\n",
       "    </tr>\n",
       "    <tr>\n",
       "      <th>2</th>\n",
       "      <td>3.wav</td>\n",
       "      <td>1012</td>\n",
       "      <td>fan</td>\n",
       "      <td>normal</td>\n",
       "    </tr>\n",
       "    <tr>\n",
       "      <th>3</th>\n",
       "      <td>4.wav</td>\n",
       "      <td>1013</td>\n",
       "      <td>fan</td>\n",
       "      <td>normal</td>\n",
       "    </tr>\n",
       "    <tr>\n",
       "      <th>4</th>\n",
       "      <td>5.wav</td>\n",
       "      <td>1014</td>\n",
       "      <td>fan</td>\n",
       "      <td>normal</td>\n",
       "    </tr>\n",
       "  </tbody>\n",
       "</table>\n",
       "</div>"
      ],
      "text/plain": [
       "  file_name  file_id label1  label2\n",
       "0     1.wav     1010    fan  normal\n",
       "1     2.wav     1011    fan  normal\n",
       "2     3.wav     1012    fan  normal\n",
       "3     4.wav     1013    fan  normal\n",
       "4     5.wav     1014    fan  normal"
      ]
     },
     "execution_count": 1,
     "metadata": {},
     "output_type": "execute_result"
    }
   ],
   "source": [
    "#observe metadata of our dataset\n",
    "import pandas as pd\n",
    "metadata=pd.read_csv('DataSet/metadata.csv')\n",
    "metadata.head()"
   ]
  },
  {
   "cell_type": "code",
   "execution_count": 2,
   "metadata": {},
   "outputs": [
    {
     "name": "stdout",
     "output_type": "stream",
     "text": [
      "fan       5550\n",
      "pump      4205\n",
      "valve     4170\n",
      "slider    4094\n",
      "Name: label1, dtype: int64\n",
      "normal      14719\n",
      "abnormal     3300\n",
      "Name: label2, dtype: int64\n"
     ]
    }
   ],
   "source": [
    "#observe labels instances\n",
    "print(metadata.label1.value_counts())\n",
    "print(metadata.label2.value_counts())\n"
   ]
  },
  {
   "cell_type": "code",
   "execution_count": 3,
   "metadata": {},
   "outputs": [],
   "source": [
    "import struct\n",
    "import pandas as pd\n",
    "import os\n",
    "\n",
    "def charact(filename):\n",
    "    \n",
    "    file = open(filename,\"rb\")\n",
    "        \n",
    "    riff = file.read(12)\n",
    "    fmt =  file.read(36)\n",
    "        \n",
    "    no_channels_string = fmt[10:12]\n",
    "    no_channels = struct.unpack('<H', no_channels_string)[0]\n",
    "\n",
    "    sample_rate_string = fmt[12:16]\n",
    "    sample_rate = struct.unpack(\"<I\",sample_rate_string)[0]\n",
    "        \n",
    "    bit_depth_string = fmt[22:24]\n",
    "    bit_depth = struct.unpack(\"<H\",bit_depth_string)[0]\n",
    "    return (no_channels, sample_rate, bit_depth)\n",
    "\n",
    "audiodata = []\n",
    "\n",
    "for index, row in metadata.iterrows():\n",
    "    \n",
    "    file_name = os.path.join(os.path.abspath('DataSet/'),str(row[\"label1\"])+'/',str(row[\"label2\"])+\n",
    "                             '/',str(row[\"file_name\"]))    \n",
    "    class_label1 = row[\"label1\"]\n",
    "    class_label2 = row[\"label2\"]\n",
    "    data = charact(file_name)\n",
    "    audiodata.append(data)\n",
    "audiodf = pd.DataFrame(audiodata, columns=['num_channels','sample_rate','bit_depth'])\n"
   ]
  },
  {
   "cell_type": "code",
   "execution_count": 6,
   "metadata": {},
   "outputs": [
    {
     "data": {
      "text/html": [
       "<div>\n",
       "<style scoped>\n",
       "    .dataframe tbody tr th:only-of-type {\n",
       "        vertical-align: middle;\n",
       "    }\n",
       "\n",
       "    .dataframe tbody tr th {\n",
       "        vertical-align: top;\n",
       "    }\n",
       "\n",
       "    .dataframe thead th {\n",
       "        text-align: right;\n",
       "    }\n",
       "</style>\n",
       "<table border=\"1\" class=\"dataframe\">\n",
       "  <thead>\n",
       "    <tr style=\"text-align: right;\">\n",
       "      <th></th>\n",
       "      <th>num_channels</th>\n",
       "      <th>sample_rate</th>\n",
       "      <th>bit_depth</th>\n",
       "    </tr>\n",
       "  </thead>\n",
       "  <tbody>\n",
       "    <tr>\n",
       "      <th>0</th>\n",
       "      <td>8</td>\n",
       "      <td>16000</td>\n",
       "      <td>16</td>\n",
       "    </tr>\n",
       "    <tr>\n",
       "      <th>1</th>\n",
       "      <td>8</td>\n",
       "      <td>16000</td>\n",
       "      <td>16</td>\n",
       "    </tr>\n",
       "    <tr>\n",
       "      <th>2</th>\n",
       "      <td>8</td>\n",
       "      <td>16000</td>\n",
       "      <td>16</td>\n",
       "    </tr>\n",
       "    <tr>\n",
       "      <th>3</th>\n",
       "      <td>8</td>\n",
       "      <td>16000</td>\n",
       "      <td>16</td>\n",
       "    </tr>\n",
       "    <tr>\n",
       "      <th>4</th>\n",
       "      <td>8</td>\n",
       "      <td>16000</td>\n",
       "      <td>16</td>\n",
       "    </tr>\n",
       "    <tr>\n",
       "      <th>...</th>\n",
       "      <td>...</td>\n",
       "      <td>...</td>\n",
       "      <td>...</td>\n",
       "    </tr>\n",
       "    <tr>\n",
       "      <th>18014</th>\n",
       "      <td>8</td>\n",
       "      <td>16000</td>\n",
       "      <td>16</td>\n",
       "    </tr>\n",
       "    <tr>\n",
       "      <th>18015</th>\n",
       "      <td>8</td>\n",
       "      <td>16000</td>\n",
       "      <td>16</td>\n",
       "    </tr>\n",
       "    <tr>\n",
       "      <th>18016</th>\n",
       "      <td>8</td>\n",
       "      <td>16000</td>\n",
       "      <td>16</td>\n",
       "    </tr>\n",
       "    <tr>\n",
       "      <th>18017</th>\n",
       "      <td>8</td>\n",
       "      <td>16000</td>\n",
       "      <td>16</td>\n",
       "    </tr>\n",
       "    <tr>\n",
       "      <th>18018</th>\n",
       "      <td>8</td>\n",
       "      <td>16000</td>\n",
       "      <td>16</td>\n",
       "    </tr>\n",
       "  </tbody>\n",
       "</table>\n",
       "<p>18019 rows × 3 columns</p>\n",
       "</div>"
      ],
      "text/plain": [
       "       num_channels  sample_rate  bit_depth\n",
       "0                 8        16000         16\n",
       "1                 8        16000         16\n",
       "2                 8        16000         16\n",
       "3                 8        16000         16\n",
       "4                 8        16000         16\n",
       "...             ...          ...        ...\n",
       "18014             8        16000         16\n",
       "18015             8        16000         16\n",
       "18016             8        16000         16\n",
       "18017             8        16000         16\n",
       "18018             8        16000         16\n",
       "\n",
       "[18019 rows x 3 columns]"
      ]
     },
     "execution_count": 6,
     "metadata": {},
     "output_type": "execute_result"
    }
   ],
   "source": [
    "audiodf"
   ]
  },
  {
   "cell_type": "code",
   "execution_count": 7,
   "metadata": {},
   "outputs": [
    {
     "name": "stdout",
     "output_type": "stream",
     "text": [
      "8    1.0\n",
      "Name: num_channels, dtype: float64\n"
     ]
    }
   ],
   "source": [
    "#observe Audio channels\n",
    "print(audiodf.num_channels.value_counts(normalize=True))"
   ]
  },
  {
   "cell_type": "code",
   "execution_count": 8,
   "metadata": {},
   "outputs": [
    {
     "name": "stdout",
     "output_type": "stream",
     "text": [
      "16000    1.0\n",
      "Name: sample_rate, dtype: float64\n"
     ]
    }
   ],
   "source": [
    "#observe sample rate\n",
    "print(audiodf.sample_rate.value_counts(normalize=True))"
   ]
  },
  {
   "cell_type": "code",
   "execution_count": 9,
   "metadata": {},
   "outputs": [
    {
     "name": "stdout",
     "output_type": "stream",
     "text": [
      "16    1.0\n",
      "Name: bit_depth, dtype: float64\n"
     ]
    }
   ],
   "source": [
    "# observe the bit depth\n",
    "print(audiodf.bit_depth.value_counts(normalize=True))"
   ]
  },
  {
   "cell_type": "code",
   "execution_count": null,
   "metadata": {},
   "outputs": [],
   "source": []
  }
 ],
 "metadata": {
  "kernelspec": {
   "display_name": "Python 3",
   "language": "python",
   "name": "python3"
  },
  "language_info": {
   "codemirror_mode": {
    "name": "ipython",
    "version": 3
   },
   "file_extension": ".py",
   "mimetype": "text/x-python",
   "name": "python",
   "nbconvert_exporter": "python",
   "pygments_lexer": "ipython3",
   "version": "3.7.6"
  }
 },
 "nbformat": 4,
 "nbformat_minor": 4
}
